{
 "cells": [
  {
   "cell_type": "code",
   "execution_count": 11,
   "id": "23c1c227-9e0e-440a-b8fd-a43a503d0b00",
   "metadata": {},
   "outputs": [],
   "source": [
    "import sklearn.datasets\n",
    "from sklearn.model_selection import train_test_split\n",
    "from model.mnam_prob import MNAM_prob\n",
    "from data.data_loader import data_loader, get_num_units\n",
    "from pytorch_lightning.callbacks.early_stopping import EarlyStopping\n",
    "import pytorch_lightning as pl"
   ]
  },
  {
   "cell_type": "code",
   "execution_count": 2,
   "id": "a3dfda2f-7f76-4c98-8a4d-805c2e152e04",
   "metadata": {},
   "outputs": [],
   "source": [
    "# load dataset and transform into dataloader\n",
    "X, y = sklearn.datasets.load_diabetes(return_X_y=True)\n",
    "X_train, X_test, y_train, y_test = train_test_split(X, y, test_size=0.2, random_state=42)\n",
    "train_loader, test_loader = data_loader(X_train, y_train, X_test, y_test)"
   ]
  },
  {
   "cell_type": "code",
   "execution_count": 16,
   "id": "7081fede-a26b-452b-b024-9e9370855f10",
   "metadata": {},
   "outputs": [
    {
     "name": "stderr",
     "output_type": "stream",
     "text": [
      "GPU available: True (cuda), used: True\n",
      "TPU available: False, using: 0 TPU cores\n",
      "IPU available: False, using: 0 IPUs\n",
      "HPU available: False, using: 0 HPUs\n",
      "LOCAL_RANK: 0 - CUDA_VISIBLE_DEVICES: [0,1,2]\n",
      "\n",
      "  | Name           | Type             | Params\n",
      "----------------------------------------------------\n",
      "0 | dropout_layer  | Dropout          | 0     \n",
      "1 | feature_nns    | ModuleList       | 61.3 K\n",
      "2 | loss_func      | GaussianNLLLoss  | 0     \n",
      "3 | loss_func_test | L1Loss           | 0     \n",
      "4 | pi_layer       | Linear           | 42    \n",
      "5 | eval_loss_cent | CrossEntropyLoss | 0     \n",
      "6 | var_act        | ELU              | 0     \n",
      "----------------------------------------------------\n",
      "61.4 K    Trainable params\n",
      "0         Non-trainable params\n",
      "61.4 K    Total params\n",
      "0.246     Total estimated model params size (MB)\n"
     ]
    },
    {
     "data": {
      "application/vnd.jupyter.widget-view+json": {
       "model_id": "cdfb08c2a25e49519b97c6d87e2ecaaf",
       "version_major": 2,
       "version_minor": 0
      },
      "text/plain": [
       "Training: 0it [00:00, ?it/s]"
      ]
     },
     "metadata": {},
     "output_type": "display_data"
    },
    {
     "name": "stderr",
     "output_type": "stream",
     "text": [
      "`Trainer.fit` stopped: `max_epochs=1000` reached.\n",
      "LOCAL_RANK: 0 - CUDA_VISIBLE_DEVICES: [0,1,2]\n"
     ]
    },
    {
     "data": {
      "application/vnd.jupyter.widget-view+json": {
       "model_id": "db6f99f732d7408aa147a798a5c10349",
       "version_major": 2,
       "version_minor": 0
      },
      "text/plain": [
       "Testing: 0it [00:00, ?it/s]"
      ]
     },
     "metadata": {},
     "output_type": "display_data"
    }
   ],
   "source": [
    "# parameter for model\n",
    "weight_decay = 0.00001\n",
    "lr = 0.001\n",
    "activation = \"relu\"\n",
    "output_penalty = 0.00001\n",
    "dropout = 0\n",
    "feature_dropout = 0\n",
    "pi_loss = 0.1\n",
    "sparsity = 0\n",
    "n_var = 2\n",
    "units_multiplier = 2\n",
    "\n",
    "# initialize model\n",
    "model = MNAM_prob(\n",
    "        num_inputs=X_train.shape[1],\n",
    "        num_units=get_num_units(units_multiplier, 64, X_train),\n",
    "        hidden_sizes=[64, 32],\n",
    "        dropout=dropout,\n",
    "        feature_dropout=feature_dropout,\n",
    "        weight_decay=weight_decay,\n",
    "        learning_rate=lr,\n",
    "        activation=\"relu\",\n",
    "        output_penalty=output_penalty,\n",
    "        pi_loss=pi_loss,\n",
    "        sparsity=sparsity,\n",
    "        num_gaus=n_var,\n",
    "    )\n",
    "\n",
    "\n",
    "trainer = pl.Trainer(\n",
    "    max_epochs=1000,\n",
    "    accelerator=\"gpu\",\n",
    "    devices=1,\n",
    "    # strategy=\"dp\",\n",
    "    enable_progress_bar=True,\n",
    ")\n",
    "trainer.fit(model, train_dataloaders=train_loader)\n",
    "\n",
    "test_lost = trainer.test(model, dataloaders=test_loader, verbose=False)"
   ]
  },
  {
   "cell_type": "code",
   "execution_count": 17,
   "id": "4fe90f91-7a66-41ae-ab31-51973f5ce0c7",
   "metadata": {},
   "outputs": [
    {
     "name": "stdout",
     "output_type": "stream",
     "text": [
      "[{'test_loss_mae': 81.18316650390625, 'test_loss_emd': 16.385680302358033}]\n"
     ]
    }
   ],
   "source": [
    "print(test_lost)"
   ]
  }
 ],
 "metadata": {
  "kernelspec": {
   "display_name": "Python 3 (ipykernel)",
   "language": "python",
   "name": "python3"
  },
  "language_info": {
   "codemirror_mode": {
    "name": "ipython",
    "version": 3
   },
   "file_extension": ".py",
   "mimetype": "text/x-python",
   "name": "python",
   "nbconvert_exporter": "python",
   "pygments_lexer": "ipython3",
   "version": "3.9.12"
  }
 },
 "nbformat": 4,
 "nbformat_minor": 5
}
