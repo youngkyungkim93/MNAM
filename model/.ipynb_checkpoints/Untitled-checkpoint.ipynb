{
 "cells": [
  {
   "cell_type": "code",
   "execution_count": 12,
   "id": "6e2a716c",
   "metadata": {},
   "outputs": [],
   "source": [
    "import nam"
   ]
  },
  {
   "cell_type": "code",
   "execution_count": null,
   "id": "2c4261d3",
   "metadata": {},
   "outputs": [],
   "source": [
    "model = nam.NAM()\n",
    "early_stop_callback = EarlyStopping(monitor=\"val_loss\", min_delta=0.00, patience=3, verbose=False, mode=\"min\")\n",
    "trainer = Trainer(callbacks=[early_stop_callback],max_epochs=1000, gpus=3, accelerator=\"ddp\")\n",
    "trainer.fit(model)\n",
    "\n",
    "# automatically loads the best weights for you\n",
    "trainer.test(model)"
   ]
  }
 ],
 "metadata": {
  "kernelspec": {
   "display_name": "Python 3 (ipykernel)",
   "language": "python",
   "name": "python3"
  },
  "language_info": {
   "codemirror_mode": {
    "name": "ipython",
    "version": 3
   },
   "file_extension": ".py",
   "mimetype": "text/x-python",
   "name": "python",
   "nbconvert_exporter": "python",
   "pygments_lexer": "ipython3",
   "version": "3.9.12"
  }
 },
 "nbformat": 4,
 "nbformat_minor": 5
}
